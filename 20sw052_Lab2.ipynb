{
  "nbformat": 4,
  "nbformat_minor": 0,
  "metadata": {
    "colab": {
      "provenance": []
    },
    "kernelspec": {
      "name": "python3",
      "display_name": "Python 3"
    },
    "language_info": {
      "name": "python"
    }
  },
  "cells": [
    {
      "cell_type": "code",
      "execution_count": null,
      "metadata": {
        "colab": {
          "base_uri": "https://localhost:8080/"
        },
        "id": "9v-LN2o_K8Lq",
        "outputId": "ddbf3595-096d-4dba-b4ef-5601df359797"
      },
      "outputs": [
        {
          "output_type": "stream",
          "name": "stdout",
          "text": [
            "Integer: 10\n",
            "Float: 3.14\n",
            "String: Hello, World!\n",
            "Boolean: True\n"
          ]
        }
      ],
      "source": [
        "#Basic Types\n",
        "\n",
        "# Integer\n",
        "my_integer = 10\n",
        "print(\"Integer:\", my_integer)\n",
        "\n",
        "# Float\n",
        "my_float = 3.14\n",
        "print(\"Float:\", my_float)\n",
        "\n",
        "# String\n",
        "my_string = \"Hello, World!\"\n",
        "print(\"String:\", my_string)\n",
        "\n",
        "# Boolean\n",
        "my_boolean = True\n",
        "print(\"Boolean:\", my_boolean)"
      ]
    },
    {
      "cell_type": "markdown",
      "source": [
        "# New Section"
      ],
      "metadata": {
        "id": "4YgX1XJwQojL"
      }
    },
    {
      "cell_type": "code",
      "source": [
        "#Container Types\n",
        "\n",
        "# List\n",
        "my_list = [1, 2, 3, 4, 5]\n",
        "print(\"List:\", my_list)\n",
        "\n",
        "# Tuple\n",
        "my_tuple = (1, 2, 3, 4, 5)\n",
        "print(\"Tuple:\", my_tuple)\n",
        "\n",
        "# Dictionary\n",
        "my_dictionary = {\"name\": \"Duaa\", \"age\": 20, \"city\": \"Jamshoro\"}\n",
        "print(\"Dictionary:\", my_dictionary)\n",
        "\n",
        "# Set\n",
        "my_set = {1, 2, 3, 4, 5}\n",
        "print(\"Set:\", my_set)"
      ],
      "metadata": {
        "colab": {
          "base_uri": "https://localhost:8080/"
        },
        "id": "A54e8u18LBnS",
        "outputId": "5adbb0fe-61a1-4dcf-b463-0b88eac9a74f"
      },
      "execution_count": null,
      "outputs": [
        {
          "output_type": "stream",
          "name": "stdout",
          "text": [
            "List: [1, 2, 3, 4, 5]\n",
            "Tuple: (1, 2, 3, 4, 5)\n",
            "Dictionary: {'name': 'Duaa', 'age': 20, 'city': 'Jamshoro'}\n",
            "Set: {1, 2, 3, 4, 5}\n"
          ]
        }
      ]
    },
    {
      "cell_type": "code",
      "source": [
        "#Identifiers\n",
        "\n",
        "#identifier names\n",
        "my_variable = 10\n",
        "my_string = \"Hello\"\n",
        "my_list = [1, 2, 3]\n",
        "\n",
        "# Printing the identifier names\n",
        "print(\"Valid identifier names:\")\n",
        "print(\"my_variable:\", my_variable)\n",
        "print(\"my_string:\", my_string)\n",
        "print(\"my_list:\", my_list)"
      ],
      "metadata": {
        "colab": {
          "base_uri": "https://localhost:8080/"
        },
        "id": "jSh5Z4ebLH6z",
        "outputId": "f77530d7-0f90-415a-d23e-09bbb3e53604"
      },
      "execution_count": null,
      "outputs": [
        {
          "output_type": "stream",
          "name": "stdout",
          "text": [
            "Valid identifier names:\n",
            "my_variable: 10\n",
            "my_string: Hello\n",
            "my_list: [1, 2, 3]\n"
          ]
        }
      ]
    },
    {
      "cell_type": "code",
      "source": [
        "#Variables Assignment\n",
        "\n",
        "x = 5\n",
        "y = 10\n",
        "z = x + y\n",
        "print(\"x:\", x)\n",
        "print(\"y:\", y)\n",
        "print(\"z:\", z)"
      ],
      "metadata": {
        "colab": {
          "base_uri": "https://localhost:8080/"
        },
        "id": "jmdWxM4tLhzZ",
        "outputId": "81cd1050-224f-495a-bc3a-fb9370d0c48e"
      },
      "execution_count": null,
      "outputs": [
        {
          "output_type": "stream",
          "name": "stdout",
          "text": [
            "x: 5\n",
            "y: 10\n",
            "z: 15\n"
          ]
        }
      ]
    },
    {
      "cell_type": "code",
      "source": [
        "#Conversions\n",
        "\n",
        "# Integer to float conversion\n",
        "my_integer = 10\n",
        "my_float = float(my_integer)\n",
        "print(\"Integer to Float:\", my_float)\n",
        "\n",
        "# Float to integer conversion\n",
        "my_float = 3.14\n",
        "my_integer = int(my_float)\n",
        "print(\"Float to Integer:\", my_integer)\n",
        "\n",
        "# Integer to string conversion\n",
        "my_integer = 5\n",
        "my_string = str(my_integer)\n",
        "print(\"Integer to String:\", my_string)\n",
        "\n",
        "# Float to string conversion\n",
        "my_float = 3.14\n",
        "my_string = str(my_float)\n",
        "print(\"Float to String:\", my_string)\n",
        "\n",
        "# String to integer conversion\n",
        "my_string = \"10\"\n",
        "my_integer = int(my_string)\n",
        "print(\"String to Integer:\", my_integer)\n",
        "\n",
        "# String to float conversion\n",
        "my_string = \"3.14\"\n",
        "my_float = float(my_string)\n",
        "print(\"String to Float:\", my_float)"
      ],
      "metadata": {
        "colab": {
          "base_uri": "https://localhost:8080/"
        },
        "id": "O-t9zWDqLi-W",
        "outputId": "286973dd-78c2-4818-bcf8-2feb3c792a5c"
      },
      "execution_count": null,
      "outputs": [
        {
          "output_type": "stream",
          "name": "stdout",
          "text": [
            "Integer to Float: 10.0\n",
            "Float to Integer: 3\n",
            "Integer to String: 5\n",
            "Float to String: 3.14\n",
            "String to Integer: 10\n",
            "String to Float: 3.14\n"
          ]
        }
      ]
    },
    {
      "cell_type": "code",
      "source": [
        "#Sequence Containers Indexing\n",
        "\n",
        "# List indexing\n",
        "my_list = [1, 2, 3, 4, 5]\n",
        "print(\"List:\", my_list)\n",
        "print(\"List indexing:\")\n",
        "print(\"Element at index 0:\", my_list[0])\n",
        "print(\"Element at index 2:\", my_list[2])\n",
        "print(\"Element at index -1:\", my_list[-1])\n",
        "\n",
        "# Tuple indexing\n",
        "my_tuple = (6, 7, 8, 9, 10)\n",
        "print(\"\\nTuple:\", my_tuple)\n",
        "print(\"Tuple indexing:\")\n",
        "print(\"Element at index 0:\", my_tuple[0])\n",
        "print(\"Element at index 2:\", my_tuple[2])\n",
        "print(\"Element at index -1:\", my_tuple[-1])\n",
        "\n",
        "# String indexing\n",
        "my_string = \"Hello, World!\"\n",
        "print(\"\\nString:\", my_string)\n",
        "print(\"String indexing:\")\n",
        "print(\"Character at index 0:\", my_string[0])\n",
        "print(\"Character at index 4:\", my_string[4])\n",
        "print(\"Character at index -1:\", my_string[-1])"
      ],
      "metadata": {
        "colab": {
          "base_uri": "https://localhost:8080/"
        },
        "id": "lqlt_JhhLkJH",
        "outputId": "e2e91f33-02a4-46fc-a841-05f9071dd826"
      },
      "execution_count": null,
      "outputs": [
        {
          "output_type": "stream",
          "name": "stdout",
          "text": [
            "List: [1, 2, 3, 4, 5]\n",
            "List indexing:\n",
            "Element at index 0: 1\n",
            "Element at index 2: 3\n",
            "Element at index -1: 5\n",
            "\n",
            "Tuple: (6, 7, 8, 9, 10)\n",
            "Tuple indexing:\n",
            "Element at index 0: 6\n",
            "Element at index 2: 8\n",
            "Element at index -1: 10\n",
            "\n",
            "String: Hello, World!\n",
            "String indexing:\n",
            "Character at index 0: H\n",
            "Character at index 4: o\n",
            "Character at index -1: !\n"
          ]
        }
      ]
    },
    {
      "cell_type": "code",
      "source": [
        "#Boolean Logic\n",
        "\n",
        "# Boolean variables\n",
        "a = True\n",
        "b = False\n",
        "\n",
        "# Boolean AND\n",
        "result_and = a and b\n",
        "print(\"a AND b:\", result_and)\n",
        "\n",
        "# Boolean OR\n",
        "result_or = a or b\n",
        "print(\"a OR b:\", result_or)\n",
        "\n",
        "# Boolean NOT\n",
        "result_not_a = not a\n",
        "result_not_b = not b\n",
        "print(\"NOT a:\", result_not_a)\n",
        "print(\"NOT b:\", result_not_b)\n",
        "\n",
        "# Boolean XOR\n",
        "result_xor = a ^ b\n",
        "print(\"a XOR b:\", result_xor)\n",
        "\n",
        "# Comparison operators\n",
        "x = 5\n",
        "y = 10\n",
        "greater_than = x > y\n",
        "less_than = x < y\n",
        "equal_to = x == y\n",
        "not_equal_to = x != y\n",
        "print(\"x > y:\", greater_than)\n",
        "print(\"x < y:\", less_than)\n",
        "print(\"x == y:\", equal_to)\n",
        "print(\"x != y:\", not_equal_to)"
      ],
      "metadata": {
        "colab": {
          "base_uri": "https://localhost:8080/"
        },
        "id": "nMBZKXv3LsfE",
        "outputId": "d7809a66-86ce-44ad-b90a-9c0488661573"
      },
      "execution_count": null,
      "outputs": [
        {
          "output_type": "stream",
          "name": "stdout",
          "text": [
            "a AND b: False\n",
            "a OR b: True\n",
            "NOT a: False\n",
            "NOT b: True\n",
            "a XOR b: True\n",
            "x > y: False\n",
            "x < y: True\n",
            "x == y: False\n",
            "x != y: True\n"
          ]
        }
      ]
    },
    {
      "cell_type": "code",
      "source": [
        "#Statement Block OR Conditional Statement\n",
        "\n",
        "# If statement block\n",
        "x = 10\n",
        "if x > 5:\n",
        "    print(\"x is greater than 5\")\n",
        "    print(\"This is inside the if statement block\")\n",
        "print(\"This is outside the if statement block\")"
      ],
      "metadata": {
        "colab": {
          "base_uri": "https://localhost:8080/"
        },
        "id": "pxLe-dTCLtBn",
        "outputId": "317e55ca-6d37-4069-9b90-db0adca93491"
      },
      "execution_count": null,
      "outputs": [
        {
          "output_type": "stream",
          "name": "stdout",
          "text": [
            "x is greater than 5\n",
            "This is inside the if statement block\n",
            "This is outside the if statement block\n"
          ]
        }
      ]
    },
    {
      "cell_type": "code",
      "source": [
        "#Modules/Names Import OR Maths\n",
        "\n",
        "import math\n",
        "\n",
        "# Square root\n",
        "num = 16\n",
        "sqrt = math.sqrt(num)\n",
        "print(\"Square root of\", num, \"is\", sqrt)"
      ],
      "metadata": {
        "colab": {
          "base_uri": "https://localhost:8080/"
        },
        "id": "peRaStVhLtgk",
        "outputId": "7e377589-e41b-48d6-b795-9b207cd81284"
      },
      "execution_count": null,
      "outputs": [
        {
          "output_type": "stream",
          "name": "stdout",
          "text": [
            "Square root of 16 is 4.0\n"
          ]
        }
      ]
    },
    {
      "cell_type": "code",
      "source": [
        "#Exception On Errors\n",
        "\n",
        "# Exception handling example\n",
        "try:\n",
        "    x = 10\n",
        "    y = 0\n",
        "    result = x / y\n",
        "    print(\"Result:\", result)\n",
        "except ZeroDivisionError:\n",
        "    print(\"Error: Division by zero!\")\n",
        "except Exception as e:\n",
        "    print(\"An error occurred:\", str(e))"
      ],
      "metadata": {
        "colab": {
          "base_uri": "https://localhost:8080/"
        },
        "id": "EPWCE6GWMa2N",
        "outputId": "a4c18b3f-c681-442e-ddd7-680699363eeb"
      },
      "execution_count": null,
      "outputs": [
        {
          "output_type": "stream",
          "name": "stdout",
          "text": [
            "Error: Division by zero!\n"
          ]
        }
      ]
    },
    {
      "cell_type": "code",
      "source": [
        "#Conditional Loop Statement\n",
        "\n",
        "# While loop statement block\n",
        "counter = 0\n",
        "print(\"\\nCounting:\")\n",
        "while counter < 5:\n",
        "    print(counter)\n",
        "    counter += 1\n",
        "print(\"End of the while loop\")"
      ],
      "metadata": {
        "colab": {
          "base_uri": "https://localhost:8080/"
        },
        "id": "-ZP2nNyiNXSs",
        "outputId": "b7da68de-d643-4dd7-ea2e-f712aa5fc17d"
      },
      "execution_count": null,
      "outputs": [
        {
          "output_type": "stream",
          "name": "stdout",
          "text": [
            "\n",
            "Counting:\n",
            "0\n",
            "1\n",
            "2\n",
            "3\n",
            "4\n",
            "End of the while loop\n"
          ]
        }
      ]
    },
    {
      "cell_type": "code",
      "source": [
        "#Iterative Loop Statement\n",
        "\n",
        "# For loop statement block\n",
        "numbers = [1, 2, 3, 4, 5]\n",
        "print(\"\\nNumbers:\")\n",
        "for num in numbers:\n",
        "    square = num ** 2\n",
        "    print(f\"The square of {num} is {square}\")\n",
        "print(\"End of the for loop\")"
      ],
      "metadata": {
        "colab": {
          "base_uri": "https://localhost:8080/"
        },
        "id": "wtg6HKmRL0eP",
        "outputId": "2a167d9f-1d24-401f-bf22-03c9d037376a"
      },
      "execution_count": null,
      "outputs": [
        {
          "output_type": "stream",
          "name": "stdout",
          "text": [
            "\n",
            "Numbers:\n",
            "The square of 1 is 1\n",
            "The square of 2 is 4\n",
            "The square of 3 is 9\n",
            "The square of 4 is 16\n",
            "The square of 5 is 25\n",
            "End of the for loop\n"
          ]
        }
      ]
    }
  ]
}