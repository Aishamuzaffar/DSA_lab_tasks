{
  "nbformat": 4,
  "nbformat_minor": 0,
  "metadata": {
    "colab": {
      "provenance": []
    },
    "kernelspec": {
      "name": "python3",
      "display_name": "Python 3"
    },
    "language_info": {
      "name": "python"
    }
  },
  "cells": [
    {
      "cell_type": "code",
      "source": [
        "#Task 1\n",
        "\n",
        "def population_density(population, land_area):\n",
        "    return population / land_area\n",
        "\n",
        "test1 = population_density(10, 1)\n",
        "expected_result1 = 10\n",
        "print(\"expected result: {}, actual result: {}\".format(expected_result1, test1))\n",
        "\n",
        "test2 = population_density(864816, 121.4)\n",
        "expected_result2 = 7123.6902801\n",
        "print(\"expected result: {}, actual result: {}\".format(expected_result2, test2))"
      ],
      "metadata": {
        "colab": {
          "base_uri": "https://localhost:8080/"
        },
        "id": "UsFtPGk-OxhJ",
        "outputId": "e96c4b62-e866-4c80-ff0a-2e370e5b6cc4"
      },
      "execution_count": null,
      "outputs": [
        {
          "output_type": "stream",
          "name": "stdout",
          "text": [
            "expected result: 10, actual result: 10.0\n",
            "expected result: 7123.6902801, actual result: 7123.690280065897\n"
          ]
        }
      ]
    },
    {
      "cell_type": "code",
      "source": [
        "#Task 2\n",
        "\n",
        "def readable_timedelta(days):\n",
        "    weeks = days // 7\n",
        "    remaining_days = days % 7\n",
        "    return \"{} week(s) and {} day(s).\".format(weeks, remaining_days)\n",
        "\n",
        "print(readable_timedelta(10))"
      ],
      "metadata": {
        "colab": {
          "base_uri": "https://localhost:8080/"
        },
        "id": "n73vz7tPOxtZ",
        "outputId": "8be39f47-48dd-4628-cb89-7f424450330a"
      },
      "execution_count": null,
      "outputs": [
        {
          "output_type": "stream",
          "name": "stdout",
          "text": [
            "1 week(s) and 3 day(s).\n"
          ]
        }
      ]
    },
    {
      "cell_type": "code",
      "source": [
        "#Task 3\n",
        "\n",
        "numbers = [\n",
        "    [34, 63, 88, 71, 29],\n",
        "    [90, 78, 51, 27, 45],\n",
        "    [63, 37, 85, 46, 22],\n",
        "    [51, 22, 34, 11, 18]\n",
        "]\n",
        "\n",
        "averages = list(map(lambda num_list: sum(num_list) / len(num_list), numbers))\n",
        "print(averages)"
      ],
      "metadata": {
        "colab": {
          "base_uri": "https://localhost:8080/"
        },
        "id": "2ahQGGLZOx2Y",
        "outputId": "1f01133b-25d3-474f-c99e-6c4072ff7701"
      },
      "execution_count": null,
      "outputs": [
        {
          "output_type": "stream",
          "name": "stdout",
          "text": [
            "[57.0, 58.2, 50.6, 27.2]\n"
          ]
        }
      ]
    },
    {
      "cell_type": "code",
      "source": [
        "#Task 4\n",
        "\n",
        "cities = [\"New York City\", \"Los Angeles\", \"Chicago\", \"Mountain View\", \"Denver\", \"Boston\"]\n",
        "\n",
        "short_cities = list(filter(lambda name: len(name) < 10, cities))\n",
        "print(short_cities)"
      ],
      "metadata": {
        "colab": {
          "base_uri": "https://localhost:8080/"
        },
        "id": "NqBsu3_DOx7E",
        "outputId": "35e98f41-9ba2-4bea-d197-29a15df0c84e"
      },
      "execution_count": null,
      "outputs": [
        {
          "output_type": "stream",
          "name": "stdout",
          "text": [
            "['Chicago', 'Denver', 'Boston']\n"
          ]
        }
      ]
    },
    {
      "cell_type": "code",
      "source": [
        "#Task 5\n",
        "\n",
        "names_input = input(\"Enter a list of student names separated by commas: \")\n",
        "names = names_input.split(',')\n",
        "\n",
        "assignments_input = input(\"Enter a list of the number of missing assignments for each student separated by commas: \")\n",
        "assignments = [int(x) for x in assignments_input.split(',')]\n",
        "\n",
        "grades_input = input(\"Enter a list of grades for each student separated by commas: \")\n",
        "grades = [float(x) for x in grades_input.split(',')]\n",
        "\n",
        "message = \"Hi {},\\n\\nThis is a reminder that you have {} assignments left to submit before you can graduate. Your current grade is {} and can increase to {} if you submit all assignments before the due date.\\n\\n\"\n",
        "\n",
        "for name, assignment_count, grade in zip(names, assignments, grades):\n",
        "    potential_grade = grade + (2 * assignment_count)\n",
        "    print(message.format(name, assignment_count, grade, potential_grade))"
      ],
      "metadata": {
        "id": "xNY7OOKtOx-M"
      },
      "execution_count": null,
      "outputs": []
    },
    {
      "cell_type": "code",
      "source": [
        "#Task 6\n",
        "\n",
        "f = open('task6.txt', 'w')\n",
        "f.write(\"We're the knights of the round tableWe dance whenever we're able\")\n",
        "f.close()\n",
        "\n",
        "with open(\"task6.txt\") as song:\n",
        "  print(song.read(2))\n",
        "  print(song.read(8))\n",
        "  print(song.read())\n",
        "\n",
        "\n",
        "camelot_lines = []\n",
        "with open(\"task6.txt\") as f:\n",
        "    for line in f:\n",
        "      camelot_lines.append(line.strip())\n",
        "print(camelot_lines)"
      ],
      "metadata": {
        "id": "W-6XEM_eOyA9"
      },
      "execution_count": null,
      "outputs": []
    },
    {
      "cell_type": "code",
      "source": [
        "#Task 7\n",
        "def create_cast_list(filename):\n",
        "    cast_list = []\n",
        "    with open(filename, 'r') as file:\n",
        "        for line in file:\n",
        "            actor_name, _ = line.strip().split(',', 1)\n",
        "            cast_list.append(actor_name)\n",
        "    return cast_list\n",
        "\n",
        "cast_list = create_cast_list('flying_circus_cast.txt')\n",
        "for actor in cast_list:\n",
        "    print(actor)"
      ],
      "metadata": {
        "id": "kvlb1Bp1O7TU"
      },
      "execution_count": null,
      "outputs": []
    }
  ]
}