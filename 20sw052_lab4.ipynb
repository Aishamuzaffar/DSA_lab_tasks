{
  "nbformat": 4,
  "nbformat_minor": 0,
  "metadata": {
    "colab": {
      "provenance": []
    },
    "kernelspec": {
      "name": "python3",
      "display_name": "Python 3"
    },
    "language_info": {
      "name": "python"
    }
  },
  "cells": [
    {
      "cell_type": "code",
      "execution_count": null,
      "metadata": {
        "colab": {
          "base_uri": "https://localhost:8080/"
        },
        "id": "RXt0-mbkPoTg",
        "outputId": "e0bd23d2-a0bb-4274-8116-7ab9b4624075"
      },
      "outputs": [
        {
          "output_type": "stream",
          "name": "stdout",
          "text": [
            "[[ 2  4  6  8]\n",
            " [10 12 14 16]\n",
            " [18 20 22 24]\n",
            " [26 28 30 32]]\n"
          ]
        }
      ],
      "source": [
        "#Task1\n",
        "\n",
        "import numpy as np\n",
        "X = np.arange(2, 34, 2).reshape(4, 4)\n",
        "print(X)"
      ]
    },
    {
      "cell_type": "code",
      "source": [
        "#Task2\n",
        "\n",
        "import numpy as np\n",
        "\n",
        "X = np.arange(1, 26).reshape(5, 5)\n",
        "Y = X[X % 2 != 0]\n",
        "\n",
        "print(X)\n",
        "print(Y)"
      ],
      "metadata": {
        "colab": {
          "base_uri": "https://localhost:8080/"
        },
        "id": "g3qFmvBaPrNZ",
        "outputId": "935e5587-7c14-4e56-c6d2-a82bd735d855"
      },
      "execution_count": null,
      "outputs": [
        {
          "output_type": "stream",
          "name": "stdout",
          "text": [
            "[[ 1  2  3  4  5]\n",
            " [ 6  7  8  9 10]\n",
            " [11 12 13 14 15]\n",
            " [16 17 18 19 20]\n",
            " [21 22 23 24 25]]\n",
            "[ 1  3  5  7  9 11 13 15 17 19 21 23 25]\n"
          ]
        }
      ]
    },
    {
      "cell_type": "code",
      "source": [
        "#Task3\n",
        "\n",
        "import numpy as np\n",
        "X = np.arange(1, 5).reshape(4, 1) * np.ones((1, 4))\n",
        "\n",
        "print(X)"
      ],
      "metadata": {
        "colab": {
          "base_uri": "https://localhost:8080/"
        },
        "id": "514-_YCFPrYe",
        "outputId": "f0dd1837-4557-474d-dc6f-b42aa58b68a9"
      },
      "execution_count": null,
      "outputs": [
        {
          "output_type": "stream",
          "name": "stdout",
          "text": [
            "[[1. 1. 1. 1.]\n",
            " [2. 2. 2. 2.]\n",
            " [3. 3. 3. 3.]\n",
            " [4. 4. 4. 4.]]\n"
          ]
        }
      ]
    },
    {
      "cell_type": "code",
      "source": [
        "\n",
        "#task4\n",
        "import numpy as np\n",
        "\n",
        "# Create a 1000x20 ndarray with random integers in the range [0, 5001)\n",
        "X = np.random.randint(0, 5001, size=(1000, 20))\n",
        "# Print the shape of X\n",
        "print(X.shape)\n",
        "\n",
        "# Calculate the average of the values in each column of X\n",
        "ave_cols = np.mean(X, axis=0)\n",
        "\n",
        "# Calculate the standard deviation of the values in each column of X\n",
        "std_cols = np.std(X, axis=0)\n",
        "\n",
        "\n",
        "print(\"Shape of ave_cols:\", ave_cols.shape)\n",
        "print(\"Shape of std_cols:\", std_cols.shape)\n",
        "\n",
        "# Mean normalize X\n",
        "X_norm = (X - ave_cols) / std_cols\n",
        "\n",
        "print(\"Mean normalized X:\")\n",
        "print(X_norm)\n",
        "\n",
        "# Print the average of all the values of X_norm\n",
        "ave_all_values = np.mean(X_norm)\n",
        "print(\"Average of all values in X_norm:\", ave_all_values)\n",
        "\n",
        "# Print the average of the minimum value in each column of X_norm\n",
        "ave_min_values = np.mean(np.min(X_norm, axis=0))\n",
        "print(\"Average of minimum values in each column of X_norm:\", ave_min_values)\n",
        "\n",
        "# Print the average of the maximum value in each column of X_norm\n",
        "ave_max_values = np.mean(np.max(X_norm, axis=0))\n",
        "print(\"Average of maximum values in each column of X_norm:\", ave_max_values)\n",
        "\n",
        "# We create a random permutation of integers 0 to 4\n",
        "np.random.permutation(5)\n",
        "\n",
        "# Create a random permutation of row indices of X_norm\n",
        "row_indices = np.random.permutation(X_norm.shape[0])\n",
        "\n",
        "print(\"Random permutation of row indices:\", row_indices)\n",
        "\n",
        "\n",
        "# Define the ratios for training, cross-validation, and test sets\n",
        "train_ratio = 0.6\n",
        "cross_val_ratio = 0.2\n",
        "test_ratio = 0.2\n",
        "\n",
        "# Calculate the sizes of each set based on the ratios\n",
        "num_rows = X_norm.shape[0]\n",
        "num_train = int(train_ratio * num_rows)\n",
        "num_cross_val = int(cross_val_ratio * num_rows)\n",
        "num_test = int(test_ratio * num_rows)\n",
        "\n",
        "# Use row_indices to split the data into sets\n",
        "X_train = X_norm[row_indices[:num_train]]\n",
        "X_crossVal = X_norm[row_indices[num_train:num_train + num_cross_val]]\n",
        "X_test = X_norm[row_indices[num_train + num_cross_val:]]\n",
        "\n",
        "print(\"X_train shape:\", X_train.shape)\n",
        "print(\"X_crossVal shape:\", X_crossVal.shape)\n",
        "print(\"X_test shape:\", X_test.shape)"
      ],
      "metadata": {
        "colab": {
          "base_uri": "https://localhost:8080/"
        },
        "id": "r9TvIsuNPrg-",
        "outputId": "217fa086-3f4e-46a5-d9eb-190a617db608"
      },
      "execution_count": null,
      "outputs": [
        {
          "output_type": "stream",
          "name": "stdout",
          "text": [
            "(1000, 20)\n",
            "Shape of ave_cols: (20,)\n",
            "Shape of std_cols: (20,)\n",
            "Mean normalized X:\n",
            "[[ 0.384045   -1.05396878  1.08848234 ...  0.40953335  1.48362917\n",
            "   0.74051721]\n",
            " [ 1.20828598 -0.04421769 -0.88253883 ...  0.85167367 -0.23774087\n",
            "  -1.32288248]\n",
            " [ 1.25069506  0.45690794 -1.50923333 ... -0.72401697  0.37867222\n",
            "   1.27531953]\n",
            " ...\n",
            " [ 1.51814587 -1.24351017 -0.18746484 ...  1.38711605 -0.52683652\n",
            "  -0.53997599]\n",
            " [-1.06743995 -0.25830401 -0.98898525 ... -0.33688308 -1.33435852\n",
            "   0.67159938]\n",
            " [-0.16658902  0.55849667 -0.83671752 ... -1.70508109 -0.66860458\n",
            "   1.55099083]]\n",
            "Average of all values in X_norm: -2.5579538487363606e-17\n",
            "Average of minimum values in each column of X_norm: -1.7357449515188272\n",
            "Average of maximum values in each column of X_norm: 1.7286881119620392\n",
            "Random permutation of row indices: [236 156 798 855 444  18 694 973 869 506 360 475 843 320 354 144 832 247\n",
            " 104 259 769 710 491 538 847 721 365 647 521 143 773 516 398 772 224 520\n",
            " 967 752 613  51 831 587 904 108 564 884 322   6 594 763 895 642 706 927\n",
            " 890 464 991 574 709 490 929 194 211 554 976 887 456 994 908 482 363 149\n",
            " 528 361 596 252 744 975 426 588 315 489 688 508 758 685 449 207 534 470\n",
            " 394 248 938 358 823 111 142 671 413 813 336  90 602 781 749 296 141 660\n",
            "  84 454 559  10 826 865 724 593 380   0 223 986 222 198 783 963 459 115\n",
            " 125 780 962 717 151 196 158 733 863 785 485 644 857 275 543 258  99  80\n",
            " 896 430  77 711 736 605 499 835 770 651 800 206 517 624  73   3 395 328\n",
            " 730 352 193 881 748 306 944 740 280 894 160 342 665 242 796 947 668 152\n",
            " 293 795 630 213 439 811 262 530 655 266 939 447 838 416 163 204 775 483\n",
            " 723 692 683 590 983 615 757 746 623 755 899  25 878  28 824  39 875 286\n",
            " 145  16 167  11 189 281  76 627 371 625 535 154 936 295 540 409 256 105\n",
            " 284  56 239 422 841 288 993 245 124 577 970 977 669 469 864 374 369 302\n",
            " 776 639  27 661 966 518 411 267 238  68 684 155 209 816 754 911  85  88\n",
            " 268 440 472 893 399 457 389 854 767 313  64 184 307 547  63   9 641 468\n",
            " 392 917 199 909 221 820 461 466 619 633  81 333 794 112 493  93 789 453\n",
            "  67 628 889 579 270 648  53 753  94 353  66 512 844 498 255 974 943 768\n",
            " 941 428 514 178 734  65 713 494 952 548 583 372 450 287 230   7 923 759\n",
            " 953 586 698 704 545 443 705 618 509 771 961  36 743  62 312 437 161 329\n",
            " 418 218 951 732 933 726 504 921 672 297 802 812 827 926 697 377  19 285\n",
            " 689 445 481 806 563 311 677 996 323 370 175 747  49 861 182 833 821 876\n",
            " 719  13 818 906 250 646 364 337  37 532 396 569  58 964 317 251  82 300\n",
            " 511 901 690 388 488 764 836 557  57 212 805 177  89 226 971 715 273 727\n",
            " 620 935 853 387  26 421 902 756   5 507 716  86 146 920 866 303  54 760\n",
            " 100 852 503 452 850 419 390 750 519 612 338 304 500 737 653 551 790  23\n",
            " 570 741 632 465  91 147 877 448 406 205 667 510 243 807 659 631 738 862\n",
            " 541 828 992 232 529 845 774 477 410 640 595 157   2  69 907 680 417  33\n",
            " 718 914 126 604 496 231 560 436 558 858 949 608 533 561 269 693 742 412\n",
            " 566 968 708 990 241 846 260 552 414 676 524 170 289 350 237 391  97 234\n",
            "  17 695 203 645 202 643 527 797 556 840 791  30  71 334 913 978 786 988\n",
            "  38 997 400 118 294 119 272 870 578 192 431 937 886  35 804  96 712 591\n",
            " 186 299 383 714 984 261 859  41 347 916 703 722  15 340 537 185 164 403\n",
            " 882 898 900 480 200 348 686 834 117 330 892 925 597 349 187 502 122 745\n",
            " 536 903 621 227 197  59 274 691 180 271 385 435 102  70 208 484 814 433\n",
            " 332 217 318 405 362 415 851 720  40 674 610 956 375 568 171 327 131  21\n",
            " 801 220 912 471 216 434 174 201 542 103 116 787 346 872 678 183 582 650\n",
            " 656 172 366 240 701 562 188 573 662 585 345 565 335 455 460 150 162 571\n",
            " 762 107 165  44 402 173 598 998 134 148 228 666 735 479 873 219 138 513\n",
            " 982 663 420 788 393 799 159 860 609 652 497 214 463 930 249 343 476 979\n",
            " 649 341 918 386 654 940  42 526 310 614 658 959 132 229 305 779 128 486\n",
            "  34   8 210 397 766 867 344 264 825 696 137 190 531 462 957 603 922 960\n",
            "  31 761 283 373 874 276 778 101 673 611 331 263  20 819 751 168 731 897\n",
            " 169 225 622 424 958 191 298 505  78 777  24 432 739 634 458 316  74 438\n",
            " 279  55 257 601 265  52   4 592  50 945 325 442 244 546 166 321 550 572\n",
            " 495 885 919 687 842  48 233 980 626 367 555 254 782 423 675 616 195 427\n",
            " 784 378 792 473 637 109 355 478 525 130 326 356 815 110 580 954 955 822\n",
            " 357 981 880 136 282 932 441  32 324 985 215 636 699 120 407 830 359  22\n",
            " 278 910  95  61 522 376 729 401 891  43 113 368  75 950 879  60 928 989\n",
            "   1 408 277 581 179 682 702 553 549 501 999 123 837 629 253 114 451 523\n",
            " 856 839  14 246 567 849 576  72 848 351  79  29 379 235  92 793 972 292\n",
            " 607 487 404 765  47 810 539 589 803 987 308  83 584 181 809 339 319 948\n",
            " 544 121 707 728 829 139 599 931 575 883 314 700 725  98 664 446 965 942\n",
            " 135 871 969 888 301 106 382 492 384 915 817 600  87  12 290 670 635 429\n",
            " 291 934 309 474 617 381 153 606 638 681  45 679 127 924 425 868 808 140\n",
            " 995 657 515 176 905 129  46 467 133 946]\n",
            "X_train shape: (600, 20)\n",
            "X_crossVal shape: (200, 20)\n",
            "X_test shape: (200, 20)\n"
          ]
        }
      ]
    },
    {
      "cell_type": "code",
      "source": [],
      "metadata": {
        "id": "txeBO52wQLka"
      },
      "execution_count": null,
      "outputs": []
    }
  ]
}