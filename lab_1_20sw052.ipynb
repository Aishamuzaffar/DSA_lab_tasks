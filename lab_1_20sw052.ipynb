{
  "nbformat": 4,
  "nbformat_minor": 0,
  "metadata": {
    "colab": {
      "provenance": []
    },
    "kernelspec": {
      "name": "python3",
      "display_name": "Python 3"
    },
    "language_info": {
      "name": "python"
    }
  },
  "cells": [
    {
      "cell_type": "code",
      "execution_count": 61,
      "metadata": {
        "colab": {
          "base_uri": "https://localhost:8080/"
        },
        "id": "tM_a_jfHK-ZY",
        "outputId": "83daab16-85a7-4855-efca-5b9c25466c89"
      },
      "outputs": [
        {
          "output_type": "stream",
          "name": "stdout",
          "text": [
            "my name isAisha muzaffar my rollno  is 20sw052\n"
          ]
        }
      ],
      "source": [
        "#task1\n",
        "name=\"Aisha muzaffar\"\n",
        "\n",
        "print(\"my name is \"+name+\". my rollno  is {}\".format('20sw052'))"
      ]
    },
    {
      "cell_type": "code",
      "source": [
        "#task2\n",
        "myvar=\"Zukhrufaaa memon\"\n",
        "print(\"Capitalize:\\n \"+myvar.capitalize())\n",
        "print(\"casefold:\\n \"+myvar.casefold())\n",
        "print(\"center:\\n\"+myvar.center(30,'$'))\n",
        "print(\"count:\")\n",
        "print(myvar.count('a',0,13))\n",
        "print(\"encode:\")\n",
        "print(myvar.encode(encoding='utf-8', errors='strict'))\n",
        "print(\"endswith:\")\n",
        "print(myvar.endswith('r',0,14))\n",
        "print(\"find:\")\n",
        "print(myvar.find('is',0,14))\n",
        "print(\"isspace:\")\n",
        "print(myvar.isspace())\n",
        "\n",
        "myvar2='ayesha\\tmuzaffar\\thussain'\n",
        "print(myvar2.expandtabs(2))\n",
        "\n",
        "#usage of functions with string\n",
        "intro=\"hello this is me, Aisha muzaffar\"\n",
        "print(intro.split())\n",
        "\n",
        "#usage of functions with string\n",
        "'~'.join(['i wake ','up','early','in the', 'morning',])"
      ],
      "metadata": {
        "colab": {
          "base_uri": "https://localhost:8080/",
          "height": 348
        },
        "id": "PCw28ZzULhFa",
        "outputId": "762af048-1dc3-4dca-991a-77ff973aa10c"
      },
      "execution_count": 64,
      "outputs": [
        {
          "output_type": "stream",
          "name": "stdout",
          "text": [
            "Capitalize:\n",
            " Zukhrufaaa memon\n",
            "casefold:\n",
            " zukhrufaaa memon\n",
            "center:\n",
            "$$$$$$$Zukhrufaaa memon$$$$$$$\n",
            "count:\n",
            "3\n",
            "encode:\n",
            "b'Zukhrufaaa memon'\n",
            "endswith:\n",
            "False\n",
            "find:\n",
            "-1\n",
            "isspace:\n",
            "False\n",
            "ayesha  muzaffar  hussain\n",
            "['hello', 'this', 'is', 'me,', 'Aisha', 'muzaffar']\n"
          ]
        },
        {
          "output_type": "execute_result",
          "data": {
            "text/plain": [
              "'i wake ~up~early~in the~morning'"
            ],
            "application/vnd.google.colaboratory.intrinsic+json": {
              "type": "string"
            }
          },
          "metadata": {},
          "execution_count": 64
        }
      ]
    },
    {
      "cell_type": "code",
      "source": [
        "#task#3 (august)\n",
        "month = 8\n",
        "days_in_month = [31,28,31,30,31,30,31,31,30,31,30,31]\n",
        "days=days_in_month[month-1]\n",
        "print(days)"
      ],
      "metadata": {
        "colab": {
          "base_uri": "https://localhost:8080/"
        },
        "id": "njcAg9idP5ru",
        "outputId": "d8f8221c-fd1c-46c3-dd1d-814597c8333a"
      },
      "execution_count": 28,
      "outputs": [
        {
          "output_type": "stream",
          "name": "stdout",
          "text": [
            "31\n"
          ]
        }
      ]
    },
    {
      "cell_type": "code",
      "source": [
        "#task4\n",
        "eclipse_dates = ['June 21, 2001', 'December 4, 2002', 'November 23, 2003',\n",
        "                 'March 29, 2006', 'August 1, 2008', 'July 22, 2009','July 11, 2010',\n",
        "                 'November 13, 2012', 'March 20, 2015','March 9, 2016']\n",
        "eclipse_dates[7:10]     #to index 10, bcoz it dont include element on the right"
      ],
      "metadata": {
        "colab": {
          "base_uri": "https://localhost:8080/"
        },
        "id": "gQmsaLcZQXPw",
        "outputId": "afefda1f-c648-415f-a529-819dd4cfb807"
      },
      "execution_count": 48,
      "outputs": [
        {
          "output_type": "execute_result",
          "data": {
            "text/plain": [
              "['November 13, 2012', 'March 20, 2015', 'March 9, 2016']"
            ]
          },
          "metadata": {},
          "execution_count": 48
        }
      ]
    },
    {
      "cell_type": "code",
      "source": [
        "#task5\n",
        "#use of nested dictionary\n",
        "dict={\"20SW031\":{\"Aiman\",\"Ahmed\",\"3rd year\"},\n",
        "      \"20SW076\":{\"Zukhrufaa\",\"Memon\",\"3rd year\"}}\n",
        "print(dict[\"20SW031\"])"
      ],
      "metadata": {
        "colab": {
          "base_uri": "https://localhost:8080/"
        },
        "id": "E8egsnOVUmD8",
        "outputId": "f662429d-cabd-4c7f-9449-883fb48e73b7"
      },
      "execution_count": 59,
      "outputs": [
        {
          "output_type": "stream",
          "name": "stdout",
          "text": [
            "{'3rd year', 'Aiman', 'Manahil'}\n"
          ]
        }
      ]
    }
  ]
}